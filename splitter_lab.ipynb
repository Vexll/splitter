{
 "cells": [
  {
   "cell_type": "code",
   "id": "initial_id",
   "metadata": {
    "collapsed": true,
    "ExecuteTime": {
     "end_time": "2024-10-04T12:51:20.015333Z",
     "start_time": "2024-10-04T12:51:20.011784Z"
    }
   },
   "source": [
    "import os\n",
    "import shutil"
   ],
   "outputs": [],
   "execution_count": 2
  },
  {
   "metadata": {},
   "cell_type": "markdown",
   "source": "creating dumb files ",
   "id": "745953fed95078cf"
  },
  {
   "metadata": {
    "ExecuteTime": {
     "end_time": "2024-10-03T21:36:40.074123Z",
     "start_time": "2024-10-03T21:36:40.063064Z"
    }
   },
   "cell_type": "code",
   "source": [
    "dir_temp = 'temp'\n",
    "temp_path = f\"{os.getcwd()}/{dir_temp}\"\n",
    "images_path = f\"{temp_path}/images\"\n",
    "labels_path = f\"{temp_path}/labels\"\n",
    "\n",
    "if not os.path.isdir(dir_temp):\n",
    "    os.mkdir(temp_path)\n",
    "    os.mkdir(images_path)\n",
    "    os.mkdir(labels_path)\n",
    "\n",
    "for i in range(10):\n",
    "    image_name = f\"image_{i:02}.txt\"\n",
    "    label_name = f\"label_{i:02}.txt\"\n",
    "    image_path = os.path.join(images_path, image_name)\n",
    "    label_path = os.path.join(labels_path, label_name)\n",
    "    open(image_path, mode='x').close()\n",
    "    open(label_path, mode='x').close()"
   ],
   "id": "7c7d3ca9cb9c726",
   "outputs": [],
   "execution_count": 30
  },
  {
   "metadata": {},
   "cell_type": "markdown",
   "source": "removing directory contents",
   "id": "445af669cc156ec"
  },
  {
   "metadata": {},
   "cell_type": "code",
   "outputs": [],
   "execution_count": null,
   "source": [
    "testing_dirs = ['temp', 'dataset']\n",
    "files = os.listdir(f'{testing_dirs[0]}')\n",
    "\n",
    "for f in files:\n",
    "    file_path = f'{testing_dirs[0]}/{f}'\n",
    "    os.remove(file_path)"
   ],
   "id": "18da0f8e9a16ab48"
  },
  {
   "metadata": {},
   "cell_type": "markdown",
   "source": "remove a directory",
   "id": "777a2388fe82a537"
  },
  {
   "metadata": {
    "ExecuteTime": {
     "end_time": "2024-10-03T21:36:36.566028Z",
     "start_time": "2024-10-03T21:36:36.560313Z"
    }
   },
   "cell_type": "code",
   "source": [
    "dir = ['temp', 'dataset']\n",
    "shutil.rmtree(dir[0])"
   ],
   "id": "55a99ba26414406f",
   "outputs": [],
   "execution_count": 29
  },
  {
   "metadata": {},
   "cell_type": "markdown",
   "source": "copying directory contents to another directory",
   "id": "b2c2c48cb919e0cb"
  },
  {
   "metadata": {
    "ExecuteTime": {
     "end_time": "2024-10-01T22:03:53.855126Z",
     "start_time": "2024-10-01T22:03:53.845407Z"
    }
   },
   "cell_type": "code",
   "source": [
    "files = os.listdir('temp')\n",
    "dst_dir = 'dataset'\n",
    "for f in files:\n",
    "    file_to_copy = f\"temp/{f}\"\n",
    "    shutil.copy2(file_to_copy, dst_dir)"
   ],
   "id": "d293fe3395b5ba9a",
   "outputs": [],
   "execution_count": 48
  },
  {
   "metadata": {},
   "cell_type": "markdown",
   "source": "getting the correct name for directory",
   "id": "6487dca36f4fb329"
  },
  {
   "metadata": {
    "ExecuteTime": {
     "end_time": "2024-10-04T01:48:37.566123Z",
     "start_time": "2024-10-04T01:48:37.559563Z"
    }
   },
   "cell_type": "code",
   "source": [
    "def get_dir_name(dir_name):\n",
    "    if not os.path.isdir(dir_name):\n",
    "        return dir_name\n",
    "\n",
    "    path_contents = os.listdir(f\"{os.getcwd()}\")\n",
    "    target_dirs = [_ for _ in path_contents if dir_name in _]\n",
    "    if len(target_dirs) == 1:\n",
    "        return f'{dir_name}_01'\n",
    "\n",
    "    last_two_elements = target_dirs[-1][-2:]\n",
    "    dir_num = int(last_two_elements) + 1\n",
    "\n",
    "    return f'{dir_name}_{dir_num:02}'"
   ],
   "id": "7ad88604b1d0647d",
   "outputs": [],
   "execution_count": 32
  },
  {
   "metadata": {},
   "cell_type": "markdown",
   "source": "check if dataset could be split",
   "id": "eeb6b134aa6b923"
  },
  {
   "metadata": {
    "ExecuteTime": {
     "end_time": "2024-10-04T12:52:07.786839Z",
     "start_time": "2024-10-04T12:52:07.783085Z"
    }
   },
   "cell_type": "code",
   "source": [
    "def is_dataset_valid(images_path, labels_path):\n",
    "    images_numbers, labels_numbers = len(os.listdir(images_path)), len(os.listdir(labels_path))\n",
    "    if images_numbers == labels_numbers:\n",
    "        return True\n",
    "    return False"
   ],
   "id": "ebd9249ac1ed0dfb",
   "outputs": [],
   "execution_count": 4
  },
  {
   "metadata": {},
   "cell_type": "markdown",
   "source": "create the collection of target directory",
   "id": "600bbeb354b029fc"
  },
  {
   "metadata": {
    "ExecuteTime": {
     "end_time": "2024-10-04T12:52:10.883586Z",
     "start_time": "2024-10-04T12:52:10.879533Z"
    }
   },
   "cell_type": "code",
   "source": [
    "def create_dir_collection(src_path):\n",
    "    os.mkdir(src_path)\n",
    "    images_path, labels_path = f\"{src_path}/images\", f\"{src_path}/labels\"\n",
    "    os.mkdir(images_path)\n",
    "    os.mkdir(labels_path)"
   ],
   "id": "d0024e58d6d1d6fd",
   "outputs": [],
   "execution_count": 5
  },
  {
   "metadata": {},
   "cell_type": "markdown",
   "source": "split function ",
   "id": "8a271dacc09f8e0"
  },
  {
   "metadata": {
    "ExecuteTime": {
     "end_time": "2024-10-04T12:54:47.097136Z",
     "start_time": "2024-10-04T12:54:47.086496Z"
    }
   },
   "cell_type": "code",
   "source": [
    "def cv_split(raw_dataset_path: str, train_s: int, valid_s: int, test_s: int):\n",
    "    check_size = train_s + valid_s + test_s\n",
    "    if check_size != 100:\n",
    "        raise Exception('make sure that your split data size is incorrect!')\n",
    "\n",
    "    images_path = os.path.join(raw_dataset_path, 'images')\n",
    "    labels_path = os.path.join(raw_dataset_path, 'labels')\n",
    "\n",
    "    if not is_dataset_valid(images_path, labels_path):\n",
    "        raise Exception('make sure that number of images equal to labels!')\n",
    "\n",
    "    files = (os.listdir(images_path), os.listdir(labels_path))\n",
    "    dataset_dir = get_dir_name('dataset')\n",
    "    os.mkdir(dataset_dir)\n",
    "\n",
    "    #number of elements\n",
    "    num_elements = get_elements(files[0], train_s, valid_s, test_s)\n",
    "\n",
    "    #creating train dir\n",
    "    train_path = f'{dataset_dir}/train'\n",
    "    create_dir_collection(train_path)\n",
    "    setup_train(files, raw_dataset_path, train_path, num_elements['train'])\n",
    "\n",
    "    #creating valid dir\n",
    "    valid_path = f'{dataset_dir}/valid'\n",
    "    create_dir_collection(valid_path)\n",
    "    valid_index = num_elements['train']\n",
    "    setup_test_or_valid(files, raw_dataset_path, valid_path, num_elements['valid'], valid_index)\n",
    "\n",
    "    #creating temp dir\n",
    "    test_path = f'{dataset_dir}/test'\n",
    "    create_dir_collection(test_path)\n",
    "    test_index = num_elements['train'] + num_elements['valid']\n",
    "    setup_test_or_valid(files, raw_dataset_path, test_path, num_elements['temp'], test_index)\n",
    "\n",
    "\n",
    "def get_elements(f_list, train_s: int, valid_s: int, test_s: int):\n",
    "    train_e = len(f_list) * train_s / 100\n",
    "    if train_e % 1 != 0:\n",
    "        train_e = int(train_e) + 1\n",
    "        valid_e = len(f_list) * valid_s // 100\n",
    "        test_e = len(f_list) * test_s // 100\n",
    "    else:\n",
    "        valid_e = len(f_list) * valid_s / 100\n",
    "        if valid_e % 1 != 0:\n",
    "            valid_e = int(valid_e) + 1\n",
    "            test_e = len(f_list) * test_s // 100\n",
    "        else:\n",
    "            test_e = len(f_list) * test_s / 100\n",
    "            if test_e % 1 != 0:\n",
    "                test_e = int(test_e) + 1\n",
    "\n",
    "    elements = {\n",
    "        'train': int(train_e),\n",
    "        'valid': int(valid_e),\n",
    "        'temp': int(test_e)\n",
    "    }\n",
    "    return elements\n",
    "\n",
    "\n",
    "def setup_train(files, src_path, dst_path, num_elements):\n",
    "    src_img_path, dst_img_path = f\"{src_path}/images\", f\"{dst_path}/images\"\n",
    "    src_label_path, dst_label_path = f\"{src_path}/labels\", f\"{dst_path}/labels\"\n",
    "    for image_name, label_name in zip(files[0][:num_elements], files[1][:num_elements]):\n",
    "        image_to_copy = os.path.join(src_img_path, image_name)\n",
    "        shutil.copy2(image_to_copy, dst_img_path)  #copy the image \n",
    "        label_to_copy = os.path.join(src_label_path, label_name)\n",
    "        shutil.copy2(label_to_copy, dst_label_path)  #copy the label\n",
    "\n",
    "\n",
    "def setup_test_or_valid(files, src_path, dst_path, num_elements, start_index):\n",
    "    src_img_path, dst_img_path = f\"{src_path}/images\", f\"{dst_path}/images\"\n",
    "    src_label_path, dst_label_path = f\"{src_path}/labels\", f\"{dst_path}/labels\"\n",
    "\n",
    "    for image_name, label_name in zip(files[0][start_index: start_index + num_elements],\n",
    "                                      files[1][start_index: start_index + num_elements]):\n",
    "        image_to_copy = os.path.join(src_img_path, image_name)\n",
    "        shutil.copy2(image_to_copy, dst_img_path)  #copy the image \n",
    "        label_to_copy = os.path.join(src_label_path, label_name)\n",
    "        shutil.copy2(label_to_copy, dst_label_path)  #copy the label\n"
   ],
   "id": "645e0292ab2b68b",
   "outputs": [],
   "execution_count": 6
  },
  {
   "metadata": {
    "ExecuteTime": {
     "end_time": "2024-10-04T01:50:50.102802Z",
     "start_time": "2024-10-04T01:50:49.434319Z"
    }
   },
   "cell_type": "code",
   "source": "cv_split('wevil_roboflow', 50, 20, 30)",
   "id": "f1f2d24f2a341ad",
   "outputs": [],
   "execution_count": 36
  }
 ],
 "metadata": {
  "kernelspec": {
   "display_name": "Python 3",
   "language": "python",
   "name": "python3"
  },
  "language_info": {
   "codemirror_mode": {
    "name": "ipython",
    "version": 2
   },
   "file_extension": ".py",
   "mimetype": "text/x-python",
   "name": "python",
   "nbconvert_exporter": "python",
   "pygments_lexer": "ipython2",
   "version": "2.7.6"
  }
 },
 "nbformat": 4,
 "nbformat_minor": 5
}
