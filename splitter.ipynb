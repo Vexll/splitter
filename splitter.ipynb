{
 "cells": [
  {
   "cell_type": "code",
   "id": "initial_id",
   "metadata": {
    "collapsed": true,
    "ExecuteTime": {
     "end_time": "2024-10-02T17:17:33.952297Z",
     "start_time": "2024-10-02T17:17:33.946315Z"
    }
   },
   "source": [
    "import os\n",
    "import shutil"
   ],
   "outputs": [],
   "execution_count": 1
  },
  {
   "metadata": {},
   "cell_type": "markdown",
   "source": "creating dumb files ",
   "id": "745953fed95078cf"
  },
  {
   "metadata": {
    "ExecuteTime": {
     "end_time": "2024-10-03T05:52:11.625327Z",
     "start_time": "2024-10-03T05:52:11.619746Z"
    }
   },
   "cell_type": "code",
   "source": [
    "dir_temp = 'temp'\n",
    "if not os.path.isdir(dir_temp):\n",
    "    os.mkdir(f\"{os.getcwd()}/{dir_temp}\")\n",
    "\n",
    "for i in range(10):\n",
    "    file_name = f\"temp_{i:02}.txt\"\n",
    "    file_path = os.path.join(dir_temp, file_name)\n",
    "    open(file_path, mode='x').close()"
   ],
   "id": "7c7d3ca9cb9c726",
   "outputs": [],
   "execution_count": 65
  },
  {
   "metadata": {},
   "cell_type": "markdown",
   "source": "removing directory contents",
   "id": "445af669cc156ec"
  },
  {
   "metadata": {},
   "cell_type": "code",
   "outputs": [],
   "execution_count": null,
   "source": [
    "testing_dirs = ['temp', 'dataset']\n",
    "files = os.listdir(f'{testing_dirs[0]}')\n",
    "\n",
    "for f in files:\n",
    "    file_path = f'{testing_dirs[0]}/{f}'\n",
    "    os.remove(file_path)"
   ],
   "id": "18da0f8e9a16ab48"
  },
  {
   "metadata": {},
   "cell_type": "markdown",
   "source": "copying directory contents to another directory",
   "id": "b2c2c48cb919e0cb"
  },
  {
   "metadata": {
    "ExecuteTime": {
     "end_time": "2024-10-01T22:03:53.855126Z",
     "start_time": "2024-10-01T22:03:53.845407Z"
    }
   },
   "cell_type": "code",
   "source": [
    "files = os.listdir('temp')\n",
    "dst_dir = 'dataset'\n",
    "for f in files:\n",
    "    file_to_copy = f\"temp/{f}\"\n",
    "    shutil.copy2(file_to_copy, dst_dir)"
   ],
   "id": "d293fe3395b5ba9a",
   "outputs": [],
   "execution_count": 48
  },
  {
   "metadata": {},
   "cell_type": "markdown",
   "source": "renaming shit",
   "id": "6487dca36f4fb329"
  },
  {
   "metadata": {
    "ExecuteTime": {
     "end_time": "2024-10-03T05:29:13.280552Z",
     "start_time": "2024-10-03T05:29:13.274520Z"
    }
   },
   "cell_type": "code",
   "source": [
    "target_dir = 'test'\n",
    "f_list = os.listdir(f\"{os.getcwd()}\")\n",
    "f_list"
   ],
   "id": "325aaf606d14c209",
   "outputs": [
    {
     "data": {
      "text/plain": [
       "['.DS_Store', 'test', 'test_01', 'splitter.ipynb', '.git', '.idea']"
      ]
     },
     "execution_count": 27,
     "metadata": {},
     "output_type": "execute_result"
    }
   ],
   "execution_count": 27
  },
  {
   "metadata": {
    "ExecuteTime": {
     "end_time": "2024-10-03T05:32:12.507593Z",
     "start_time": "2024-10-03T05:32:12.501336Z"
    }
   },
   "cell_type": "code",
   "source": [
    "checking = target_dir in f_list[3]\n",
    "checking"
   ],
   "id": "a81f913053521ff4",
   "outputs": [
    {
     "data": {
      "text/plain": [
       "['.DS_Store', 'test', 'test_01', 'splitter.ipynb', '.git', '.idea']"
      ]
     },
     "execution_count": 37,
     "metadata": {},
     "output_type": "execute_result"
    }
   ],
   "execution_count": 37
  },
  {
   "metadata": {
    "ExecuteTime": {
     "end_time": "2024-10-03T05:35:01.506396Z",
     "start_time": "2024-10-03T05:35:01.499474Z"
    }
   },
   "cell_type": "code",
   "source": [
    "all_target_dirs = [f for f in f_list if target_dir in f]\n",
    "all_target_dirs"
   ],
   "id": "b1528e28db3b21b8",
   "outputs": [
    {
     "data": {
      "text/plain": [
       "['test', 'test_01']"
      ]
     },
     "execution_count": 39,
     "metadata": {},
     "output_type": "execute_result"
    }
   ],
   "execution_count": 39
  },
  {
   "metadata": {
    "ExecuteTime": {
     "end_time": "2024-10-03T05:45:53.390561Z",
     "start_time": "2024-10-03T05:45:53.385819Z"
    }
   },
   "cell_type": "code",
   "source": [
    "if not os.path.isdir(target_dir):\n",
    "    os.mkdir(target_dir)\n",
    "else:\n",
    "    f_list = os.listdir(f\"{os.getcwd()}\")\n",
    "    all_target_dirs = [f for f in f_list if target_dir in f]\n",
    "    num_dir = int(all_target_dirs[-1][-2:]) + 1\n",
    "    new_dir_name = f'{target_dir}_{num_dir:02}'\n",
    "    os.mkdir(new_dir_name)"
   ],
   "id": "8a0ecfbab32ad817",
   "outputs": [],
   "execution_count": 63
  },
  {
   "metadata": {
    "ExecuteTime": {
     "end_time": "2024-10-03T05:44:02.050910Z",
     "start_time": "2024-10-03T05:44:02.018439Z"
    }
   },
   "cell_type": "code",
   "source": [
    "num_dir = int(all_target_dirs[-1][-2:]) + 1\n",
    "print(f\"{num_dir:02}\")"
   ],
   "id": "9f46f9a24097a35a",
   "outputs": [
    {
     "name": "stdout",
     "output_type": "stream",
     "text": [
      "02\n"
     ]
    }
   ],
   "execution_count": 61
  },
  {
   "metadata": {
    "ExecuteTime": {
     "end_time": "2024-10-03T05:55:21.025747Z",
     "start_time": "2024-10-03T05:55:21.023278Z"
    }
   },
   "cell_type": "code",
   "source": "print(\"11\".isdigit())",
   "id": "b5a23c277f5f7440",
   "outputs": [
    {
     "name": "stdout",
     "output_type": "stream",
     "text": [
      "True\n"
     ]
    }
   ],
   "execution_count": 69
  },
  {
   "metadata": {
    "ExecuteTime": {
     "end_time": "2024-10-03T06:07:27.334521Z",
     "start_time": "2024-10-03T06:07:27.326327Z"
    }
   },
   "cell_type": "code",
   "source": [
    "def get_curr_path(dir_name):\n",
    "    if not os.path.isdir(dir_name):\n",
    "        return dir_name\n",
    "    \n",
    "    path_contents = os.listdir(f\"{os.getcwd()}\")\n",
    "    target_dirs = [_ for _ in path_contents if dir_name in _]\n",
    "    last_two_elements = target_dirs[-1][-2:]\n",
    "    \n",
    "    if not last_two_elements.isdigit():\n",
    "        return f'{dir_name}_01'\n",
    "    \n",
    "    dir_num = int(last_two_elements) + 1\n",
    "    return f'{dir_name}_{dir_num:02}'"
   ],
   "id": "7ad88604b1d0647d",
   "outputs": [],
   "execution_count": 82
  },
  {
   "metadata": {
    "ExecuteTime": {
     "end_time": "2024-10-03T06:07:58.421107Z",
     "start_time": "2024-10-03T06:07:58.417518Z"
    }
   },
   "cell_type": "code",
   "source": "os.mkdir(get_curr_path('temp'))",
   "id": "e6efa7043fc59f8a",
   "outputs": [],
   "execution_count": 84
  },
  {
   "metadata": {},
   "cell_type": "markdown",
   "source": "split function ",
   "id": "8a271dacc09f8e0"
  },
  {
   "metadata": {
    "ExecuteTime": {
     "end_time": "2024-10-02T17:43:17.565301Z",
     "start_time": "2024-10-02T17:43:17.554113Z"
    }
   },
   "cell_type": "code",
   "source": [
    "def split(dir_path: str, train_s: int, valid_s: int, test_s: int):\n",
    "    check_size = train_s + valid_s + test_s\n",
    "    if check_size != 100:\n",
    "        raise Exception('make sure that your split data size is correct!')\n",
    "    \n",
    "    curr_path = get_curr_path('dataset')\n",
    "    os.mkdir(curr_path)\n",
    "    \n",
    "    files = os.listdir(dir_path)\n",
    "\n",
    "    #number of elements\n",
    "    num_elements = get_elements(files, train_s, valid_s, test_s)\n",
    "\n",
    "    #creating train dir\n",
    "    train_path = f'{curr_path}/train'\n",
    "    os.mkdir(train_path)\n",
    "    create_train(files, dir_path, train_path, num_elements['train'])\n",
    "\n",
    "    #creating valid dir\n",
    "    valid_path = f'{curr_path}/valid'\n",
    "    os.mkdir(valid_path)\n",
    "    valid_index = num_elements['train']\n",
    "    create_valid(files, dir_path, valid_path, num_elements['valid'], valid_index)\n",
    "\n",
    "    #creating temp dir\n",
    "    test_path = f'{curr_path}/test'\n",
    "    os.mkdir(test_path)\n",
    "    test_index = num_elements['train'] + num_elements['valid']\n",
    "    create_test(files, dir_path, test_path, num_elements['temp'], test_index)\n",
    "\n",
    "\n",
    "def get_elements(f_list, train_s: int, valid_s: int, test_s: int):\n",
    "    train_e = len(f_list) * train_s / 100\n",
    "    if train_e % 1 != 0:\n",
    "        train_e = int(train_e) + 1\n",
    "        valid_e = len(f_list) * valid_s // 100\n",
    "        test_e = len(f_list) * test_s // 100\n",
    "    else:\n",
    "        valid_e = len(f_list) * valid_s / 100\n",
    "        if valid_e % 1 != 0:\n",
    "            valid_e = int(valid_e) + 1\n",
    "            test_e = len(f_list) * test_s // 100\n",
    "        else:\n",
    "            test_e = len(f_list) * test_s / 100\n",
    "            if test_e % 1 != 0:\n",
    "                test_e = int(test_e) + 1\n",
    "\n",
    "    elements = {\n",
    "        'train': int(train_e),\n",
    "        'valid': int(valid_e),\n",
    "        'temp': int(test_e)\n",
    "    }\n",
    "    return elements\n",
    "\n",
    "\n",
    "def create_train(files_list, src_path, dst_path, num_elements):\n",
    "    for i in range(num_elements):\n",
    "        file_to_copy = f\"{src_path}/{files_list[i]}\"\n",
    "        shutil.copy2(file_to_copy, dst_path)\n",
    "\n",
    "\n",
    "def create_valid(files_list, src_path, dst_path, num_elements, start_index):\n",
    "    j = start_index\n",
    "    for i in range(num_elements):\n",
    "        file_to_copy = f\"{src_path}/{files_list[j]}\"\n",
    "        shutil.copy2(file_to_copy, dst_path)\n",
    "        j += 1\n",
    "\n",
    "\n",
    "def create_test(files_list, src_path, dst_path, num_elements, start_index):\n",
    "    j = start_index\n",
    "    for i in range(num_elements):\n",
    "        file_to_copy = f\"{src_path}/{files_list[j]}\"\n",
    "        shutil.copy2(file_to_copy, dst_path)\n",
    "        j += 1"
   ],
   "id": "645e0292ab2b68b",
   "outputs": [],
   "execution_count": 6
  },
  {
   "metadata": {
    "ExecuteTime": {
     "end_time": "2024-10-02T17:43:50.075432Z",
     "start_time": "2024-10-02T17:43:50.064266Z"
    }
   },
   "cell_type": "code",
   "source": "split('temp', 50, 20, 30)",
   "id": "f1f2d24f2a341ad",
   "outputs": [],
   "execution_count": 7
  },
  {
   "metadata": {},
   "cell_type": "code",
   "outputs": [],
   "execution_count": null,
   "source": "",
   "id": "bb63ab73f05c7081"
  }
 ],
 "metadata": {
  "kernelspec": {
   "display_name": "Python 3",
   "language": "python",
   "name": "python3"
  },
  "language_info": {
   "codemirror_mode": {
    "name": "ipython",
    "version": 2
   },
   "file_extension": ".py",
   "mimetype": "text/x-python",
   "name": "python",
   "nbconvert_exporter": "python",
   "pygments_lexer": "ipython2",
   "version": "2.7.6"
  }
 },
 "nbformat": 4,
 "nbformat_minor": 5
}
