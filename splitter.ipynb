{
 "cells": [
  {
   "cell_type": "code",
   "id": "initial_id",
   "metadata": {
    "collapsed": true,
    "ExecuteTime": {
     "end_time": "2024-10-01T17:28:23.575303Z",
     "start_time": "2024-10-01T17:28:23.572095Z"
    }
   },
   "source": "import os",
   "outputs": [],
   "execution_count": 2
  },
  {
   "metadata": {
    "ExecuteTime": {
     "end_time": "2024-10-01T15:54:05.579447Z",
     "start_time": "2024-10-01T15:54:05.575662Z"
    }
   },
   "cell_type": "code",
   "source": "files = os.listdir('temp')",
   "id": "a966f0c2ef09fb08",
   "outputs": [],
   "execution_count": 2
  },
  {
   "metadata": {
    "ExecuteTime": {
     "end_time": "2024-10-01T15:54:08.019166Z",
     "start_time": "2024-10-01T15:54:08.012978Z"
    }
   },
   "cell_type": "code",
   "source": "files",
   "id": "73d3d1da8c67a8f6",
   "outputs": [
    {
     "data": {
      "text/plain": [
       "['temp01.txt', 'temp02.txt', 'temp03.txt']"
      ]
     },
     "execution_count": 3,
     "metadata": {},
     "output_type": "execute_result"
    }
   ],
   "execution_count": 3
  },
  {
   "metadata": {
    "ExecuteTime": {
     "end_time": "2024-10-01T15:54:45.825021Z",
     "start_time": "2024-10-01T15:54:45.816503Z"
    }
   },
   "cell_type": "code",
   "source": "type(files[0])",
   "id": "d87961c419fc5a5e",
   "outputs": [
    {
     "data": {
      "text/plain": [
       "str"
      ]
     },
     "execution_count": 4,
     "metadata": {},
     "output_type": "execute_result"
    }
   ],
   "execution_count": 4
  },
  {
   "metadata": {
    "ExecuteTime": {
     "end_time": "2024-10-01T16:00:19.522388Z",
     "start_time": "2024-10-01T16:00:19.518399Z"
    }
   },
   "cell_type": "code",
   "source": [
    "x = 'sdfsd.txt'\n",
    "file_extension = x.split('.')[-1]\n",
    "print(file_extension)"
   ],
   "id": "b762623f8f557e20",
   "outputs": [
    {
     "name": "stdout",
     "output_type": "stream",
     "text": [
      "txt\n"
     ]
    }
   ],
   "execution_count": 11
  },
  {
   "metadata": {},
   "cell_type": "markdown",
   "source": "creating dumb files ",
   "id": "745953fed95078cf"
  },
  {
   "metadata": {
    "ExecuteTime": {
     "end_time": "2024-10-01T22:02:14.465128Z",
     "start_time": "2024-10-01T22:02:14.451555Z"
    }
   },
   "cell_type": "code",
   "source": [
    "path = 'temp/'\n",
    "for i in range(10):\n",
    "    file_name = f\"temp_{i:02}.txt\"\n",
    "    file_path = os.path.join(path, file_name)\n",
    "    with open(file_path, mode='x') as file:\n",
    "        pass"
   ],
   "id": "7c7d3ca9cb9c726",
   "outputs": [],
   "execution_count": 47
  },
  {
   "metadata": {},
   "cell_type": "markdown",
   "source": "removing directory contents",
   "id": "445af669cc156ec"
  },
  {
   "metadata": {
    "ExecuteTime": {
     "end_time": "2024-10-01T22:01:54.040349Z",
     "start_time": "2024-10-01T22:01:54.034218Z"
    }
   },
   "cell_type": "code",
   "source": [
    "files = os.listdir('dataset')\n",
    "src_path = 'dataset'\n",
    "\n",
    "for f in files:\n",
    "    file_path = f'{src_path}/{f}'\n",
    "    os.remove(file_path)\n"
   ],
   "id": "d49bc0d6da601f86",
   "outputs": [],
   "execution_count": 46
  },
  {
   "metadata": {},
   "cell_type": "markdown",
   "source": "copying directory contents to another directory",
   "id": "b2c2c48cb919e0cb"
  },
  {
   "metadata": {
    "ExecuteTime": {
     "end_time": "2024-10-01T21:33:52.634970Z",
     "start_time": "2024-10-01T21:33:52.631252Z"
    }
   },
   "cell_type": "code",
   "source": "import shutil",
   "id": "32d7f7440e1969d7",
   "outputs": [],
   "execution_count": 38
  },
  {
   "metadata": {
    "ExecuteTime": {
     "end_time": "2024-10-01T22:03:53.855126Z",
     "start_time": "2024-10-01T22:03:53.845407Z"
    }
   },
   "cell_type": "code",
   "source": [
    "files = os.listdir('temp')\n",
    "dst_dir = 'dataset'\n",
    "for f in files:\n",
    "    file_to_copy = f\"temp/{f}\"\n",
    "    shutil.copy2(file_to_copy, dst_dir)"
   ],
   "id": "d293fe3395b5ba9a",
   "outputs": [],
   "execution_count": 48
  },
  {
   "metadata": {
    "ExecuteTime": {
     "end_time": "2024-10-01T23:03:05.699618Z",
     "start_time": "2024-10-01T23:03:05.689746Z"
    }
   },
   "cell_type": "code",
   "source": [
    "def split(dir_path: str, train_s: int, valid_s: int, test_s: int):\n",
    "    check_size = train_s + valid_s + test_s\n",
    "    if check_size != 100:\n",
    "        raise Exception('make sure that your split data size is correct!')\n",
    "\n",
    "    curr_path = f'{os.getcwd()}/dataset'\n",
    "    os.mkdir(curr_path)\n",
    "    files = os.listdir(dir_path)\n",
    "\n",
    "    #number of elements\n",
    "    num_elements = get_elements(files, train_s, valid_s, test_s)\n",
    "\n",
    "    #creating train dir\n",
    "    train_path = f'{curr_path}/train'\n",
    "    os.mkdir(train_path)\n",
    "    create_train(files, dir_path, train_path, num_elements['train'])\n",
    "\n",
    "    #creating valid dir\n",
    "    valid_path = f'{curr_path}/valid'\n",
    "    os.mkdir(valid_path)\n",
    "    valid_index = num_elements['train']\n",
    "    create_valid(files, dir_path, valid_path, num_elements['valid'], valid_index)\n",
    "\n",
    "    #creating temp dir\n",
    "    test_path = f'{curr_path}/test'\n",
    "    os.mkdir(test_path)\n",
    "    test_index = num_elements['train'] + num_elements['valid']\n",
    "    create_test(files, dir_path, test_path, num_elements['temp'], test_index)\n",
    "\n",
    "\n",
    "def get_elements(f_list, train_s: int, valid_s: int, test_s: int):\n",
    "    train_e = len(f_list) * train_s / 100\n",
    "    if train_e % 1 != 0:\n",
    "        train_e = int(train_e) + 1\n",
    "        valid_e = len(f_list) * valid_s // 100\n",
    "        test_e = len(f_list) * test_s // 100\n",
    "    else:\n",
    "        valid_e = len(f_list) * valid_s / 100\n",
    "        if valid_e % 1 != 0:\n",
    "            valid_e = int(valid_e) + 1\n",
    "            test_e = len(f_list) * test_s // 100\n",
    "        else:\n",
    "            test_e = len(f_list) * test_s / 100\n",
    "            if test_e % 1 != 0:\n",
    "                test_e = int(test_e) + 1\n",
    "\n",
    "    elements = {\n",
    "        'train': int(train_e),\n",
    "        'valid': int(valid_e),\n",
    "        'temp': int(test_e)\n",
    "    }\n",
    "    return elements\n",
    "\n",
    "\n",
    "def create_train(files_list, src_path, dst_path, num_elements):\n",
    "    for i in range(num_elements):\n",
    "        file_to_copy = f\"{src_path}/{files_list[i]}\"\n",
    "        shutil.copy2(file_to_copy, dst_path)\n",
    "\n",
    "\n",
    "def create_valid(files_list, src_path, dst_path, num_elements, start_index):\n",
    "    j = start_index\n",
    "    for i in range(num_elements):\n",
    "        file_to_copy = f\"{src_path}/{files_list[j]}\"\n",
    "        shutil.copy2(file_to_copy, dst_path)\n",
    "        j += 1\n",
    "\n",
    "\n",
    "def create_test(files_list, src_path, dst_path, num_elements, start_index):\n",
    "    print(f\"inside valid -> start_index = {start_index}, num_elements = {num_elements}\")\n",
    "    j = start_index\n",
    "    for i in range(num_elements):\n",
    "        file_to_copy = f\"{src_path}/{files_list[j]}\"\n",
    "        shutil.copy2(file_to_copy, dst_path)\n",
    "        j += 1"
   ],
   "id": "645e0292ab2b68b",
   "outputs": [],
   "execution_count": 64
  }
 ],
 "metadata": {
  "kernelspec": {
   "display_name": "Python 3",
   "language": "python",
   "name": "python3"
  },
  "language_info": {
   "codemirror_mode": {
    "name": "ipython",
    "version": 2
   },
   "file_extension": ".py",
   "mimetype": "text/x-python",
   "name": "python",
   "nbconvert_exporter": "python",
   "pygments_lexer": "ipython2",
   "version": "2.7.6"
  }
 },
 "nbformat": 4,
 "nbformat_minor": 5
}
