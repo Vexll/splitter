{
 "cells": [
  {
   "cell_type": "code",
   "id": "initial_id",
   "metadata": {
    "collapsed": true,
    "ExecuteTime": {
     "end_time": "2024-10-02T17:17:33.952297Z",
     "start_time": "2024-10-02T17:17:33.946315Z"
    }
   },
   "source": [
    "import os\n",
    "import shutil"
   ],
   "outputs": [],
   "execution_count": 1
  },
  {
   "metadata": {},
   "cell_type": "markdown",
   "source": "creating dumb files ",
   "id": "745953fed95078cf"
  },
  {
   "metadata": {
    "ExecuteTime": {
     "end_time": "2024-10-02T17:28:16.568154Z",
     "start_time": "2024-10-02T17:28:16.557448Z"
    }
   },
   "cell_type": "code",
   "source": [
    "dir_temp = 'temp'\n",
    "if not os.path.isdir(dir_temp):\n",
    "    os.mkdir(f\"{os.getcwd()}/{dir_temp}\")\n",
    "\n",
    "for i in range(20):\n",
    "    file_name = f\"temp_{i:02}.txt\"\n",
    "    file_path = os.path.join(dir_temp, file_name)\n",
    "    open(file_path, mode='x').close()"
   ],
   "id": "7c7d3ca9cb9c726",
   "outputs": [],
   "execution_count": 5
  },
  {
   "metadata": {},
   "cell_type": "markdown",
   "source": "removing directory contents",
   "id": "445af669cc156ec"
  },
  {
   "metadata": {
    "ExecuteTime": {
     "end_time": "2024-10-02T17:25:33.671307Z",
     "start_time": "2024-10-02T17:25:33.665659Z"
    }
   },
   "cell_type": "code",
   "source": [
    "testing_dirs = ['temp', 'dataset']\n",
    "files = os.listdir(f'{testing_dirs[0]}')\n",
    "\n",
    "for f in files:\n",
    "    file_path = f'{testing_dirs[0]}/{f}'\n",
    "    os.remove(file_path)\n"
   ],
   "id": "d49bc0d6da601f86",
   "outputs": [],
   "execution_count": 3
  },
  {
   "metadata": {},
   "cell_type": "markdown",
   "source": "copying directory contents to another directory",
   "id": "b2c2c48cb919e0cb"
  },
  {
   "metadata": {
    "ExecuteTime": {
     "end_time": "2024-10-01T22:03:53.855126Z",
     "start_time": "2024-10-01T22:03:53.845407Z"
    }
   },
   "cell_type": "code",
   "source": [
    "files = os.listdir('temp')\n",
    "dst_dir = 'dataset'\n",
    "for f in files:\n",
    "    file_to_copy = f\"temp/{f}\"\n",
    "    shutil.copy2(file_to_copy, dst_dir)"
   ],
   "id": "d293fe3395b5ba9a",
   "outputs": [],
   "execution_count": 48
  },
  {
   "metadata": {},
   "cell_type": "markdown",
   "source": "split function ",
   "id": "8a271dacc09f8e0"
  },
  {
   "metadata": {
    "ExecuteTime": {
     "end_time": "2024-10-02T17:43:17.565301Z",
     "start_time": "2024-10-02T17:43:17.554113Z"
    }
   },
   "cell_type": "code",
   "source": [
    "def split(dir_path: str, train_s: int, valid_s: int, test_s: int):\n",
    "    check_size = train_s + valid_s + test_s\n",
    "    if check_size != 100:\n",
    "        raise Exception('make sure that your split data size is correct!')\n",
    "    \n",
    "    curr_path = f'{os.getcwd()}/dataset'\n",
    "    if os.path.isdir(curr_path):\n",
    "        os.mkdir(curr_path)\n",
    "    \n",
    "    files = os.listdir(dir_path)\n",
    "\n",
    "    #number of elements\n",
    "    num_elements = get_elements(files, train_s, valid_s, test_s)\n",
    "\n",
    "    #creating train dir\n",
    "    train_path = f'{curr_path}/train'\n",
    "    os.mkdir(train_path)\n",
    "    create_train(files, dir_path, train_path, num_elements['train'])\n",
    "\n",
    "    #creating valid dir\n",
    "    valid_path = f'{curr_path}/valid'\n",
    "    os.mkdir(valid_path)\n",
    "    valid_index = num_elements['train']\n",
    "    create_valid(files, dir_path, valid_path, num_elements['valid'], valid_index)\n",
    "\n",
    "    #creating temp dir\n",
    "    test_path = f'{curr_path}/test'\n",
    "    os.mkdir(test_path)\n",
    "    test_index = num_elements['train'] + num_elements['valid']\n",
    "    create_test(files, dir_path, test_path, num_elements['temp'], test_index)\n",
    "\n",
    "\n",
    "def get_elements(f_list, train_s: int, valid_s: int, test_s: int):\n",
    "    train_e = len(f_list) * train_s / 100\n",
    "    if train_e % 1 != 0:\n",
    "        train_e = int(train_e) + 1\n",
    "        valid_e = len(f_list) * valid_s // 100\n",
    "        test_e = len(f_list) * test_s // 100\n",
    "    else:\n",
    "        valid_e = len(f_list) * valid_s / 100\n",
    "        if valid_e % 1 != 0:\n",
    "            valid_e = int(valid_e) + 1\n",
    "            test_e = len(f_list) * test_s // 100\n",
    "        else:\n",
    "            test_e = len(f_list) * test_s / 100\n",
    "            if test_e % 1 != 0:\n",
    "                test_e = int(test_e) + 1\n",
    "\n",
    "    elements = {\n",
    "        'train': int(train_e),\n",
    "        'valid': int(valid_e),\n",
    "        'temp': int(test_e)\n",
    "    }\n",
    "    return elements\n",
    "\n",
    "\n",
    "def create_train(files_list, src_path, dst_path, num_elements):\n",
    "    for i in range(num_elements):\n",
    "        file_to_copy = f\"{src_path}/{files_list[i]}\"\n",
    "        shutil.copy2(file_to_copy, dst_path)\n",
    "\n",
    "\n",
    "def create_valid(files_list, src_path, dst_path, num_elements, start_index):\n",
    "    j = start_index\n",
    "    for i in range(num_elements):\n",
    "        file_to_copy = f\"{src_path}/{files_list[j]}\"\n",
    "        shutil.copy2(file_to_copy, dst_path)\n",
    "        j += 1\n",
    "\n",
    "\n",
    "def create_test(files_list, src_path, dst_path, num_elements, start_index):\n",
    "    j = start_index\n",
    "    for i in range(num_elements):\n",
    "        file_to_copy = f\"{src_path}/{files_list[j]}\"\n",
    "        shutil.copy2(file_to_copy, dst_path)\n",
    "        j += 1"
   ],
   "id": "645e0292ab2b68b",
   "outputs": [],
   "execution_count": 6
  },
  {
   "metadata": {
    "ExecuteTime": {
     "end_time": "2024-10-02T17:43:50.075432Z",
     "start_time": "2024-10-02T17:43:50.064266Z"
    }
   },
   "cell_type": "code",
   "source": "split('temp', 50, 20, 30)",
   "id": "f1f2d24f2a341ad",
   "outputs": [],
   "execution_count": 7
  },
  {
   "metadata": {},
   "cell_type": "code",
   "outputs": [],
   "execution_count": null,
   "source": "",
   "id": "bb63ab73f05c7081"
  }
 ],
 "metadata": {
  "kernelspec": {
   "display_name": "Python 3",
   "language": "python",
   "name": "python3"
  },
  "language_info": {
   "codemirror_mode": {
    "name": "ipython",
    "version": 2
   },
   "file_extension": ".py",
   "mimetype": "text/x-python",
   "name": "python",
   "nbconvert_exporter": "python",
   "pygments_lexer": "ipython2",
   "version": "2.7.6"
  }
 },
 "nbformat": 4,
 "nbformat_minor": 5
}
